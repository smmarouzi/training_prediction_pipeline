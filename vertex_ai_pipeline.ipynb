{
 "cells": [
  {
   "cell_type": "code",
   "execution_count": 3,
   "metadata": {},
   "outputs": [
    {
     "name": "stderr",
     "output_type": "stream",
     "text": [
      "/var/folders/n8/sbp8v1ys5wz6pm1xg3jkgnpm0000gn/T/ipykernel_5737/2783593710.py:3: DeprecationWarning: The module `kfp.v2` is deprecated and will be removed in a futureversion. Please import directly from the `kfp` namespace, instead of `kfp.v2`.\n",
      "  from kfp.v2 import dsl\n"
     ]
    }
   ],
   "source": [
    "# IMPORT THE REQUIRED LIBRARIES\n",
    "\n",
    "from kfp.v2 import dsl\n",
    "from kfp.v2.dsl import (Artifact,\n",
    "                        Dataset,\n",
    "                        Input,\n",
    "                        Output,\n",
    "                        Model,\n",
    "                        Metrics,\n",
    "                        Markdown,\n",
    "                        HTML,\n",
    "                        component, \n",
    "                        OutputPath, \n",
    "                        InputPath)\n",
    "\n",
    "from kfp.v2 import compiler\n",
    "from google.cloud import aiplatform as vertex_\n",
    "from google.cloud.aiplatform import pipeline_jobs\n",
    "\n",
    "from datetime import datetime\n",
    "import pandas as pd"
   ]
  },
  {
   "cell_type": "markdown",
   "metadata": {},
   "source": []
  },
  {
   "cell_type": "code",
   "execution_count": 4,
   "metadata": {},
   "outputs": [],
   "source": [
    "PROJECT_ID = \"skip-the-dishes-410816\"\n",
    "REGION = 'us-central1'\n",
    "\n",
    "BUCKET_NAME=\"gs://\"+PROJECT_ID+\"skipthedishes\"\n",
    "\n",
    "PIPELINE_ROOT = f\"{BUCKET_NAME}/pipeline_root_regionbusyness/\""
   ]
  },
  {
   "cell_type": "code",
   "execution_count": 5,
   "metadata": {},
   "outputs": [
    {
     "name": "stdout",
     "output_type": "stream",
     "text": [
      "us-central1-docker.pkg.dev/skip-the-dishes-410816/regionbusyness/training:latest\n"
     ]
    }
   ],
   "source": [
    "# Custom base image created using docker\n",
    "\n",
    "IMAGE_NAME = \"training\"\n",
    "BASE_IMAGE = f\"{REGION}-docker.pkg.dev/{PROJECT_ID}/regionbusyness/{IMAGE_NAME}:latest\"\n",
    "print(BASE_IMAGE)"
   ]
  },
  {
   "cell_type": "markdown",
   "metadata": {},
   "source": [
    "## Read the Dataset"
   ]
  },
  {
   "cell_type": "code",
   "execution_count": 6,
   "metadata": {},
   "outputs": [
    {
     "name": "stderr",
     "output_type": "stream",
     "text": [
      "/var/folders/n8/sbp8v1ys5wz6pm1xg3jkgnpm0000gn/T/ipykernel_5737/68637903.py:1: DeprecationWarning: output_component_file parameter is deprecated and will eventually be removed. Please use `Compiler().compile()` to compile a component instead.\n",
      "  @component(\n"
     ]
    }
   ],
   "source": [
    "@component(\n",
    "    base_image=BASE_IMAGE,\n",
    "    output_component_file=\"get_data.yaml\"\n",
    ")\n",
    "\n",
    "def get_std_data(\n",
    "    filepath: str,\n",
    "    dataset_train: Output[Dataset],\n",
    "):\n",
    "    \n",
    "    import pandas as pd\n",
    "    \n",
    "    df_train = pd.read_csv(filepath + '/train.csv')\n",
    "   \n",
    "    df_train.to_csv(dataset_train.path, index=False)"
   ]
  },
  {
   "cell_type": "markdown",
   "metadata": {},
   "source": [
    "## Data Preprocessing"
   ]
  },
  {
   "cell_type": "code",
   "execution_count": 7,
   "metadata": {},
   "outputs": [
    {
     "name": "stderr",
     "output_type": "stream",
     "text": [
      "/var/folders/n8/sbp8v1ys5wz6pm1xg3jkgnpm0000gn/T/ipykernel_5737/1988278445.py:1: DeprecationWarning: output_component_file parameter is deprecated and will eventually be removed. Please use `Compiler().compile()` to compile a component instead.\n",
      "  @component(\n"
     ]
    }
   ],
   "source": [
    "@component(\n",
    "    base_image=BASE_IMAGE,\n",
    "    output_component_file=\"preprocessing.yaml\"\n",
    ")\n",
    "\n",
    "def preprocess_std_data(\n",
    "    train_df: Input[Dataset],\n",
    "    dataset_train_preprocessed: Output[Dataset],\n",
    "):\n",
    "    \n",
    "    import pandas as pd\n",
    "    from src.prepare_data.preprocessing import data_preprocessing_pipeline\n",
    "   \n",
    "    train_df = pd.read_csv(train_df.path)\n",
    "    \n",
    "    train_df_preprocessed = data_preprocessing_pipeline(train_df)\n",
    "    \n",
    "    train_df_preprocessed.to_csv(dataset_train_preprocessed.path, index=False)"
   ]
  },
  {
   "cell_type": "markdown",
   "metadata": {},
   "source": [
    "## Train Test Split"
   ]
  },
  {
   "cell_type": "code",
   "execution_count": 8,
   "metadata": {},
   "outputs": [
    {
     "name": "stderr",
     "output_type": "stream",
     "text": [
      "/var/folders/n8/sbp8v1ys5wz6pm1xg3jkgnpm0000gn/T/ipykernel_5737/593052275.py:1: DeprecationWarning: output_component_file parameter is deprecated and will eventually be removed. Please use `Compiler().compile()` to compile a component instead.\n",
      "  @component(\n"
     ]
    }
   ],
   "source": [
    "@component(\n",
    "    base_image=BASE_IMAGE,\n",
    "    output_component_file=\"train_test_split.yaml\",\n",
    ")\n",
    "def train_test_split(dataset_in: Input[Dataset],\n",
    "                     dataset_train: Output[Dataset],\n",
    "                     dataset_test: Output[Dataset],\n",
    "                     test_size: float = 0.33):\n",
    "\n",
    "    import pandas as pd\n",
    "    from sklearn.model_selection import train_test_split\n",
    "\n",
    "    df = pd.read_csv(dataset_in.path)\n",
    "    df_train, df_test = train_test_split(df, test_size=test_size, random_state=42)\n",
    "\n",
    "    df_train.to_csv(dataset_train.path, index=False)\n",
    "    df_test.to_csv(dataset_test.path, index=False)"
   ]
  },
  {
   "cell_type": "markdown",
   "metadata": {},
   "source": [
    "## Train the Model"
   ]
  },
  {
   "cell_type": "code",
   "execution_count": 9,
   "metadata": {},
   "outputs": [],
   "source": [
    "def train_busyness(\n",
    "    dataset_train: Input[Dataset],\n",
    "    dataset_test: Input[Dataset],\n",
    "    model: Output[Model], \n",
    "):\n",
    "    \n",
    "    import pandas as pd\n",
    "    import pickle\n",
    "    from src.train.model import BusynessEstimation\n",
    "    from src.train.config import Data\n",
    "    from src.utils.utils import get_image_data\n",
    "    \n",
    "    \n",
    "    # Read train and test data\n",
    "    train_data = pd.read_csv(dataset_train.path)\n",
    "    test_data = pd.read_csv(dataset_test.path)\n",
    "    \n",
    "    # Instantiate the model class\n",
    "    busyness_model = BusynessEstimation(\n",
    "                                        test_data.copy()\n",
    "                                        )\n",
    "                                        \n",
    "    # Create X_train and y_train\n",
    "    X_train = train_data.drop(Data.target, axis=1)\n",
    "    y_train = train_data[Data.target]\n",
    "\n",
    "    # Fit the model (training pipeline consists of feature engineering, feature selection and training an xgboost model)\n",
    "    busyness_model.fit(X_train, y_train)\n",
    "    \n",
    "    # Save the best hyperparameters as an artifact\n",
    "    with open(best_params.path, \"w\") as f:\n",
    "        f.write(str(busyness_model.best_params))\n",
    "    \"\"\"    \n",
    "    shap.summary_plot(busyness_model.shap_values, busyness_model.X_test_transformed, max_display=20) # plot shap summary plot\n",
    "    shap_plot_dataurl = get_image_data() # get image data to render the image in the html file\n",
    "    html_content = f'<html><head></head><body><h1>Shap Summary Plot</h1>\\n<img src={shap_plot_dataurl} width=\"97%\"></body></html>' \n",
    "    # Save shap summary plot as an html artifact\n",
    "    with open(shap_summary_plot.path, \"w\") as f: \n",
    "        f.write(html_content)\n",
    "    \"\"\"\n",
    "    model.metadata[\"framework\"] = \"scikit-learn\" \n",
    "    # Save the model as an artifact\n",
    "    with open(model.path, 'wb') as f: \n",
    "        pickle.dump({\n",
    "            \"pipeline\": busyness_model.model_pipeline,\n",
    "            \"target\": busyness_model.target,\n",
    "            \"scores_dict\": busyness_model.scores}, f)"
   ]
  },
  {
   "cell_type": "markdown",
   "metadata": {},
   "source": [
    "## Evaluate the Model"
   ]
  },
  {
   "cell_type": "code",
   "execution_count": 10,
   "metadata": {},
   "outputs": [
    {
     "name": "stderr",
     "output_type": "stream",
     "text": [
      "/var/folders/n8/sbp8v1ys5wz6pm1xg3jkgnpm0000gn/T/ipykernel_5737/2105362814.py:1: DeprecationWarning: output_component_file parameter is deprecated and will eventually be removed. Please use `Compiler().compile()` to compile a component instead.\n",
      "  @component(\n"
     ]
    }
   ],
   "source": [
    "@component(\n",
    "    base_image=BASE_IMAGE,\n",
    "    output_component_file=\"model_evaluation.yaml\"\n",
    ")\n",
    "def evaluate_busyness(\n",
    "    busyness_model: Input[Model],\n",
    "    metrics_baseline: Output[Metrics],\n",
    "    metrics_train: Output[Metrics],\n",
    "    metrics_test: Output[Metrics]):\n",
    "    \n",
    "    import pickle\n",
    "    \n",
    "    file_name = busyness_model.path\n",
    "    with open(file_name, 'rb') as file:  \n",
    "        model_data = pickle.load(file)\n",
    "    \n",
    "    scores = model_data[\"scores_dict\"] \n",
    "\n",
    "    def log_metrics(scores, metric):\n",
    "        for metric_name, val in scores.items():\n",
    "            metric.log_metric(metric_name, float(val))\n",
    "            \n",
    "    log_metrics(scores[\"baseline_scores\"], metrics_baseline)        \n",
    "    log_metrics(scores[\"train_scores\"], metrics_train)\n",
    "    log_metrics(scores[\"test_scores\"], metrics_test)"
   ]
  },
  {
   "cell_type": "markdown",
   "metadata": {},
   "source": [
    "## Deploy the Model"
   ]
  },
  {
   "cell_type": "code",
   "execution_count": 11,
   "metadata": {},
   "outputs": [
    {
     "name": "stderr",
     "output_type": "stream",
     "text": [
      "/var/folders/n8/sbp8v1ys5wz6pm1xg3jkgnpm0000gn/T/ipykernel_5737/1363491600.py:1: DeprecationWarning: output_component_file parameter is deprecated and will eventually be removed. Please use `Compiler().compile()` to compile a component instead.\n",
      "  @component(\n"
     ]
    }
   ],
   "source": [
    "@component(\n",
    "    base_image=BASE_IMAGE,\n",
    "    install_kfp_package=False,\n",
    "    output_component_file=\"model_deployment.yaml\",\n",
    ")\n",
    "def deploy_busyness(\n",
    "        serving_container_image_uri: str,\n",
    "        display_name: str,\n",
    "        model_endpoint: str,\n",
    "        gcp_project: str,\n",
    "        gcp_region: str,\n",
    "        model: Input[Model],\n",
    "        vertex_model: Output[Model],\n",
    "        vertex_endpoint: Output[Model]\n",
    "):\n",
    "    from google.cloud import aiplatform as vertex_ai\n",
    "    from pathlib import Path\n",
    "    \n",
    "    # Checks existing Vertex AI Enpoint or creates Endpoint if it is not exist.\n",
    "    def create_endpoint ():\n",
    "        endpoints = vertex_ai.Endpoint.list(\n",
    "        filter='display_name=\"{}\"'.format(model_endpoint),\n",
    "        order_by='create_time desc',\n",
    "        project=gcp_project,\n",
    "        location=gcp_region,\n",
    "        )\n",
    "        if len(endpoints) > 0:\n",
    "            endpoint = endpoints[0] # most recently created\n",
    "        else:\n",
    "            endpoint = vertex_ai.Endpoint.create(\n",
    "                display_name=model_endpoint,\n",
    "                project=gcp_project,\n",
    "                location=gcp_region\n",
    "        )\n",
    "        return endpoint\n",
    "\n",
    "    endpoint = create_endpoint()\n",
    "    \n",
    "    # Uploads trained model to Vertex AI Model Registry or creates new model version into existing uploaded one.\n",
    "    def upload_model ():\n",
    "        listed_model = vertex_ai.Model.list(\n",
    "        filter='display_name=\"{}\"'.format(display_name),\n",
    "        project=gcp_project,\n",
    "        location=gcp_region,\n",
    "        )\n",
    "        if len(listed_model) > 0:\n",
    "            model_version = listed_model[0] # most recently created\n",
    "            model_upload = vertex_ai.Model.upload(\n",
    "                    display_name=display_name,\n",
    "                    parent_model=model_version.resource_name,\n",
    "                    artifact_uri=str(Path(model.path).parent),\n",
    "                    serving_container_image_uri=serving_container_image_uri,\n",
    "                    location=gcp_region,\n",
    "                    serving_container_predict_route=\"/predict\",\n",
    "                    serving_container_health_route=\"/health\"\n",
    "            )\n",
    "        else:\n",
    "            model_upload = vertex_ai.Model.upload(\n",
    "                    display_name=display_name,\n",
    "                    artifact_uri=str(Path(model.path).parent),\n",
    "                    serving_container_image_uri=serving_container_image_uri,\n",
    "                    location=gcp_region,\n",
    "                    serving_container_predict_route=\"/predict\",\n",
    "                    serving_container_health_route=\"/health\"\n",
    "            )\n",
    "        return model_upload\n",
    "    \n",
    "    uploaded_model = upload_model()\n",
    "    \n",
    "    # Save data to the output params\n",
    "    vertex_model.uri = uploaded_model.resource_name\n",
    "\n",
    "    # Deploys trained model to Vertex AI Endpoint\n",
    "    model_deploy = uploaded_model.deploy(\n",
    "        machine_type='n1-standard-1',\n",
    "        endpoint=endpoint,\n",
    "        traffic_split={\"0\": 100},\n",
    "        deployed_model_display_name=display_name,\n",
    "    )\n",
    "\n",
    "    # Save data to the output params\n",
    "    vertex_endpoint.uri = model_deploy.resource_name"
   ]
  },
  {
   "cell_type": "markdown",
   "metadata": {},
   "source": [
    "## Create Pipeline"
   ]
  },
  {
   "cell_type": "code",
   "execution_count": 13,
   "metadata": {},
   "outputs": [],
   "source": [
    "# USE TIMESTAMP TO DEFINE UNIQUE PIPELINE NAMES\n",
    "TIMESTAMP = datetime.now().strftime(\"%Y%m%d%H%M%S\")\n",
    "DISPLAY_NAME = 'pipeline_busyness-job{}'.format(TIMESTAMP)"
   ]
  },
  {
   "cell_type": "code",
   "execution_count": 15,
   "metadata": {},
   "outputs": [
    {
     "ename": "TypeError",
     "evalue": "Components must be instantiated using keyword arguments. Positional parameters are not allowed (found 1 such parameters for component \"get-std-data\").",
     "output_type": "error",
     "traceback": [
      "\u001b[0;31m---------------------------------------------------------------------------\u001b[0m",
      "\u001b[0;31mTypeError\u001b[0m                                 Traceback (most recent call last)",
      "Cell \u001b[0;32mIn[15], line 1\u001b[0m\n\u001b[0;32m----> 1\u001b[0m \u001b[38;5;129;43m@dsl\u001b[39;49m\u001b[38;5;241;43m.\u001b[39;49m\u001b[43mpipeline\u001b[49m\u001b[43m(\u001b[49m\n\u001b[1;32m      2\u001b[0m \u001b[43m    \u001b[49m\u001b[43mpipeline_root\u001b[49m\u001b[38;5;241;43m=\u001b[39;49m\u001b[43mPIPELINE_ROOT\u001b[49m\u001b[43m,\u001b[49m\n\u001b[1;32m      3\u001b[0m \u001b[43m    \u001b[49m\u001b[38;5;66;43;03m# A name for the pipeline. Use to determine the pipeline Context.\u001b[39;49;00m\n\u001b[1;32m      4\u001b[0m \u001b[43m    \u001b[49m\u001b[43mname\u001b[49m\u001b[38;5;241;43m=\u001b[39;49m\u001b[38;5;124;43m\"\u001b[39;49m\u001b[38;5;124;43mpipeline-regionsbusyness\u001b[39;49m\u001b[38;5;124;43m\"\u001b[39;49m\u001b[43m   \u001b[49m\n\u001b[1;32m      5\u001b[0m \u001b[43m)\u001b[49m\n\u001b[1;32m      6\u001b[0m \n\u001b[1;32m      7\u001b[0m \u001b[38;5;28;43;01mdef\u001b[39;49;00m\u001b[43m \u001b[49m\u001b[38;5;21;43mpipeline\u001b[39;49m\u001b[43m(\u001b[49m\n\u001b[1;32m      8\u001b[0m \u001b[43m    \u001b[49m\u001b[43mdata_filepath\u001b[49m\u001b[43m:\u001b[49m\u001b[43m \u001b[49m\u001b[38;5;28;43mstr\u001b[39;49m\u001b[43m \u001b[49m\u001b[38;5;241;43m=\u001b[39;49m\u001b[43m \u001b[49m\u001b[38;5;124;43mf\u001b[39;49m\u001b[38;5;124;43m\"\u001b[39;49m\u001b[38;5;132;43;01m{\u001b[39;49;00m\u001b[43mBUCKET_NAME\u001b[49m\u001b[38;5;132;43;01m}\u001b[39;49;00m\u001b[38;5;124;43m/data\u001b[39;49m\u001b[38;5;124;43m\"\u001b[39;49m\u001b[43m,\u001b[49m\n\u001b[1;32m      9\u001b[0m \u001b[43m    \u001b[49m\u001b[43mproject\u001b[49m\u001b[43m:\u001b[49m\u001b[43m \u001b[49m\u001b[38;5;28;43mstr\u001b[39;49m\u001b[43m \u001b[49m\u001b[38;5;241;43m=\u001b[39;49m\u001b[43m \u001b[49m\u001b[43mPROJECT_ID\u001b[49m\u001b[43m,\u001b[49m\n\u001b[1;32m     10\u001b[0m \u001b[43m    \u001b[49m\u001b[43mregion\u001b[49m\u001b[43m:\u001b[49m\u001b[43m \u001b[49m\u001b[38;5;28;43mstr\u001b[39;49m\u001b[43m \u001b[49m\u001b[38;5;241;43m=\u001b[39;49m\u001b[43m \u001b[49m\u001b[43mREGION\u001b[49m\u001b[43m,\u001b[49m\u001b[43m \u001b[49m\n\u001b[1;32m     11\u001b[0m \u001b[43m    \u001b[49m\u001b[43mdisplay_name\u001b[49m\u001b[43m:\u001b[49m\u001b[43m \u001b[49m\u001b[38;5;28;43mstr\u001b[39;49m\u001b[43m \u001b[49m\u001b[38;5;241;43m=\u001b[39;49m\u001b[43m \u001b[49m\u001b[43mDISPLAY_NAME\u001b[49m\u001b[43m,\u001b[49m\u001b[43m    \u001b[49m\n\u001b[1;32m     12\u001b[0m \u001b[43m    \u001b[49m\u001b[43mserving_container_image_uri\u001b[49m\u001b[43m:\u001b[49m\u001b[43m \u001b[49m\u001b[38;5;28;43mstr\u001b[39;49m\u001b[43m \u001b[49m\u001b[38;5;241;43m=\u001b[39;49m\u001b[43m \u001b[49m\u001b[38;5;124;43mf\u001b[39;49m\u001b[38;5;124;43m\"\u001b[39;49m\u001b[38;5;132;43;01m{\u001b[39;49;00m\u001b[43mREGION\u001b[49m\u001b[38;5;132;43;01m}\u001b[39;49;00m\u001b[38;5;124;43m-docker.pkg.dev/\u001b[39;49m\u001b[38;5;132;43;01m{\u001b[39;49;00m\u001b[43mPROJECT_ID\u001b[49m\u001b[38;5;132;43;01m}\u001b[39;49;00m\u001b[38;5;124;43m/houseprice/serving_image:latest\u001b[39;49m\u001b[38;5;124;43m\"\u001b[39;49m\u001b[43m \u001b[49m\u001b[38;5;66;43;03m# custom serving container image     \u001b[39;49;00m\n\u001b[1;32m     13\u001b[0m \u001b[43m)\u001b[49m\u001b[43m:\u001b[49m\n\u001b[1;32m     15\u001b[0m \u001b[43m    \u001b[49m\u001b[43mdata_op\u001b[49m\u001b[43m \u001b[49m\u001b[38;5;241;43m=\u001b[39;49m\u001b[43m \u001b[49m\u001b[43mget_std_data\u001b[49m\u001b[43m(\u001b[49m\u001b[43mdata_filepath\u001b[49m\u001b[43m)\u001b[49m\n\u001b[1;32m     16\u001b[0m \u001b[43m    \u001b[49m\u001b[43mdata_preprocess_op\u001b[49m\u001b[43m \u001b[49m\u001b[38;5;241;43m=\u001b[39;49m\u001b[43m \u001b[49m\u001b[43mpreprocess_std_data\u001b[49m\u001b[43m(\u001b[49m\u001b[43mdata_op\u001b[49m\u001b[38;5;241;43m.\u001b[39;49m\u001b[43moutputs\u001b[49m\u001b[43m[\u001b[49m\u001b[38;5;124;43m\"\u001b[39;49m\u001b[38;5;124;43mdataset_train\u001b[39;49m\u001b[38;5;124;43m\"\u001b[39;49m\u001b[43m]\u001b[49m\u001b[43m)\u001b[49m\n",
      "File \u001b[0;32m~/miniconda3/envs/SkipTheDishes/lib/python3.11/site-packages/kfp/dsl/pipeline_context.py:65\u001b[0m, in \u001b[0;36mpipeline\u001b[0;34m(func, name, description, pipeline_root, display_name)\u001b[0m\n\u001b[1;32m     62\u001b[0m \u001b[38;5;28;01mif\u001b[39;00m pipeline_root:\n\u001b[1;32m     63\u001b[0m     func\u001b[38;5;241m.\u001b[39mpipeline_root \u001b[38;5;241m=\u001b[39m pipeline_root\n\u001b[0;32m---> 65\u001b[0m \u001b[38;5;28;01mreturn\u001b[39;00m \u001b[43mcomponent_factory\u001b[49m\u001b[38;5;241;43m.\u001b[39;49m\u001b[43mcreate_graph_component_from_func\u001b[49m\u001b[43m(\u001b[49m\n\u001b[1;32m     66\u001b[0m \u001b[43m    \u001b[49m\u001b[43mfunc\u001b[49m\u001b[43m,\u001b[49m\n\u001b[1;32m     67\u001b[0m \u001b[43m    \u001b[49m\u001b[43mname\u001b[49m\u001b[38;5;241;43m=\u001b[39;49m\u001b[43mname\u001b[49m\u001b[43m,\u001b[49m\n\u001b[1;32m     68\u001b[0m \u001b[43m    \u001b[49m\u001b[43mdescription\u001b[49m\u001b[38;5;241;43m=\u001b[39;49m\u001b[43mdescription\u001b[49m\u001b[43m,\u001b[49m\n\u001b[1;32m     69\u001b[0m \u001b[43m    \u001b[49m\u001b[43mdisplay_name\u001b[49m\u001b[38;5;241;43m=\u001b[39;49m\u001b[43mdisplay_name\u001b[49m\u001b[43m,\u001b[49m\n\u001b[1;32m     70\u001b[0m \u001b[43m\u001b[49m\u001b[43m)\u001b[49m\n",
      "File \u001b[0;32m~/miniconda3/envs/SkipTheDishes/lib/python3.11/site-packages/kfp/dsl/component_factory.py:673\u001b[0m, in \u001b[0;36mcreate_graph_component_from_func\u001b[0;34m(func, name, description, display_name)\u001b[0m\n\u001b[1;32m    662\u001b[0m \u001b[38;5;250m\u001b[39m\u001b[38;5;124;03m\"\"\"Implementation for the @pipeline decorator.\u001b[39;00m\n\u001b[1;32m    663\u001b[0m \n\u001b[1;32m    664\u001b[0m \u001b[38;5;124;03mThe decorator is defined under pipeline_context.py. See the\u001b[39;00m\n\u001b[1;32m    665\u001b[0m \u001b[38;5;124;03mdecorator for the canonical documentation for this function.\u001b[39;00m\n\u001b[1;32m    666\u001b[0m \u001b[38;5;124;03m\"\"\"\u001b[39;00m\n\u001b[1;32m    668\u001b[0m component_spec \u001b[38;5;241m=\u001b[39m extract_component_interface(\n\u001b[1;32m    669\u001b[0m     func,\n\u001b[1;32m    670\u001b[0m     description\u001b[38;5;241m=\u001b[39mdescription,\n\u001b[1;32m    671\u001b[0m     name\u001b[38;5;241m=\u001b[39mname,\n\u001b[1;32m    672\u001b[0m )\n\u001b[0;32m--> 673\u001b[0m \u001b[38;5;28;01mreturn\u001b[39;00m \u001b[43mgraph_component\u001b[49m\u001b[38;5;241;43m.\u001b[39;49m\u001b[43mGraphComponent\u001b[49m\u001b[43m(\u001b[49m\n\u001b[1;32m    674\u001b[0m \u001b[43m    \u001b[49m\u001b[43mcomponent_spec\u001b[49m\u001b[38;5;241;43m=\u001b[39;49m\u001b[43mcomponent_spec\u001b[49m\u001b[43m,\u001b[49m\n\u001b[1;32m    675\u001b[0m \u001b[43m    \u001b[49m\u001b[43mpipeline_func\u001b[49m\u001b[38;5;241;43m=\u001b[39;49m\u001b[43mfunc\u001b[49m\u001b[43m,\u001b[49m\n\u001b[1;32m    676\u001b[0m \u001b[43m    \u001b[49m\u001b[43mdisplay_name\u001b[49m\u001b[38;5;241;43m=\u001b[39;49m\u001b[43mdisplay_name\u001b[49m\u001b[43m,\u001b[49m\n\u001b[1;32m    677\u001b[0m \u001b[43m\u001b[49m\u001b[43m)\u001b[49m\n",
      "File \u001b[0;32m~/miniconda3/envs/SkipTheDishes/lib/python3.11/site-packages/kfp/dsl/graph_component.py:58\u001b[0m, in \u001b[0;36mGraphComponent.__init__\u001b[0;34m(self, component_spec, pipeline_func, display_name)\u001b[0m\n\u001b[1;32m     49\u001b[0m     args_list\u001b[38;5;241m.\u001b[39mappend(\n\u001b[1;32m     50\u001b[0m         pipeline_channel\u001b[38;5;241m.\u001b[39mcreate_pipeline_channel(\n\u001b[1;32m     51\u001b[0m             name\u001b[38;5;241m=\u001b[39marg_name,\n\u001b[1;32m     52\u001b[0m             channel_type\u001b[38;5;241m=\u001b[39minput_spec\u001b[38;5;241m.\u001b[39mtype,\n\u001b[1;32m     53\u001b[0m             is_artifact_list\u001b[38;5;241m=\u001b[39minput_spec\u001b[38;5;241m.\u001b[39mis_artifact_list,\n\u001b[1;32m     54\u001b[0m         ))\n\u001b[1;32m     56\u001b[0m \u001b[38;5;28;01mwith\u001b[39;00m pipeline_context\u001b[38;5;241m.\u001b[39mPipeline(\n\u001b[1;32m     57\u001b[0m         \u001b[38;5;28mself\u001b[39m\u001b[38;5;241m.\u001b[39mcomponent_spec\u001b[38;5;241m.\u001b[39mname) \u001b[38;5;28;01mas\u001b[39;00m dsl_pipeline:\n\u001b[0;32m---> 58\u001b[0m     pipeline_outputs \u001b[38;5;241m=\u001b[39m \u001b[43mpipeline_func\u001b[49m\u001b[43m(\u001b[49m\u001b[38;5;241;43m*\u001b[39;49m\u001b[43margs_list\u001b[49m\u001b[43m)\u001b[49m\n\u001b[1;32m     60\u001b[0m \u001b[38;5;28;01mif\u001b[39;00m \u001b[38;5;129;01mnot\u001b[39;00m dsl_pipeline\u001b[38;5;241m.\u001b[39mtasks:\n\u001b[1;32m     61\u001b[0m     \u001b[38;5;28;01mraise\u001b[39;00m \u001b[38;5;167;01mValueError\u001b[39;00m(\u001b[38;5;124m'\u001b[39m\u001b[38;5;124mTask is missing from pipeline.\u001b[39m\u001b[38;5;124m'\u001b[39m)\n",
      "Cell \u001b[0;32mIn[15], line 15\u001b[0m, in \u001b[0;36mpipeline\u001b[0;34m(data_filepath, project, region, display_name, serving_container_image_uri)\u001b[0m\n\u001b[1;32m      1\u001b[0m \u001b[38;5;129m@dsl\u001b[39m\u001b[38;5;241m.\u001b[39mpipeline(\n\u001b[1;32m      2\u001b[0m     pipeline_root\u001b[38;5;241m=\u001b[39mPIPELINE_ROOT,\n\u001b[1;32m      3\u001b[0m     \u001b[38;5;66;03m# A name for the pipeline. Use to determine the pipeline Context.\u001b[39;00m\n\u001b[0;32m   (...)\u001b[0m\n\u001b[1;32m     12\u001b[0m     serving_container_image_uri: \u001b[38;5;28mstr\u001b[39m \u001b[38;5;241m=\u001b[39m \u001b[38;5;124mf\u001b[39m\u001b[38;5;124m\"\u001b[39m\u001b[38;5;132;01m{\u001b[39;00mREGION\u001b[38;5;132;01m}\u001b[39;00m\u001b[38;5;124m-docker.pkg.dev/\u001b[39m\u001b[38;5;132;01m{\u001b[39;00mPROJECT_ID\u001b[38;5;132;01m}\u001b[39;00m\u001b[38;5;124m/houseprice/serving_image:latest\u001b[39m\u001b[38;5;124m\"\u001b[39m \u001b[38;5;66;03m# custom serving container image     \u001b[39;00m\n\u001b[1;32m     13\u001b[0m ):\n\u001b[0;32m---> 15\u001b[0m     data_op \u001b[38;5;241m=\u001b[39m \u001b[43mget_std_data\u001b[49m\u001b[43m(\u001b[49m\u001b[43mdata_filepath\u001b[49m\u001b[43m)\u001b[49m\n\u001b[1;32m     16\u001b[0m     data_preprocess_op \u001b[38;5;241m=\u001b[39m preprocess_std_data(data_op\u001b[38;5;241m.\u001b[39moutputs[\u001b[38;5;124m\"\u001b[39m\u001b[38;5;124mdataset_train\u001b[39m\u001b[38;5;124m\"\u001b[39m])\n\u001b[1;32m     17\u001b[0m     train_test_split_op \u001b[38;5;241m=\u001b[39m train_test_split(data_preprocess_op\u001b[38;5;241m.\u001b[39moutputs[\u001b[38;5;124m\"\u001b[39m\u001b[38;5;124mdataset_train_preprocessed\u001b[39m\u001b[38;5;124m\"\u001b[39m])\n",
      "File \u001b[0;32m~/miniconda3/envs/SkipTheDishes/lib/python3.11/site-packages/kfp/dsl/base_component.py:76\u001b[0m, in \u001b[0;36mBaseComponent.__call__\u001b[0;34m(self, *args, **kwargs)\u001b[0m\n\u001b[1;32m     73\u001b[0m task_inputs \u001b[38;5;241m=\u001b[39m {}\n\u001b[1;32m     75\u001b[0m \u001b[38;5;28;01mif\u001b[39;00m args:\n\u001b[0;32m---> 76\u001b[0m     \u001b[38;5;28;01mraise\u001b[39;00m \u001b[38;5;167;01mTypeError\u001b[39;00m(\n\u001b[1;32m     77\u001b[0m         \u001b[38;5;124m'\u001b[39m\u001b[38;5;124mComponents must be instantiated using keyword arguments. Positional \u001b[39m\u001b[38;5;124m'\u001b[39m\n\u001b[1;32m     78\u001b[0m         \u001b[38;5;124mf\u001b[39m\u001b[38;5;124m'\u001b[39m\u001b[38;5;124mparameters are not allowed (found \u001b[39m\u001b[38;5;132;01m{\u001b[39;00m\u001b[38;5;28mlen\u001b[39m(args)\u001b[38;5;132;01m}\u001b[39;00m\u001b[38;5;124m such parameters for \u001b[39m\u001b[38;5;124m'\u001b[39m\n\u001b[1;32m     79\u001b[0m         \u001b[38;5;124mf\u001b[39m\u001b[38;5;124m'\u001b[39m\u001b[38;5;124mcomponent \u001b[39m\u001b[38;5;124m\"\u001b[39m\u001b[38;5;132;01m{\u001b[39;00m\u001b[38;5;28mself\u001b[39m\u001b[38;5;241m.\u001b[39mname\u001b[38;5;132;01m}\u001b[39;00m\u001b[38;5;124m\"\u001b[39m\u001b[38;5;124m).\u001b[39m\u001b[38;5;124m'\u001b[39m)\n\u001b[1;32m     81\u001b[0m \u001b[38;5;28;01mfor\u001b[39;00m k, v \u001b[38;5;129;01min\u001b[39;00m kwargs\u001b[38;5;241m.\u001b[39mitems():\n\u001b[1;32m     82\u001b[0m     \u001b[38;5;28;01mif\u001b[39;00m k \u001b[38;5;129;01mnot\u001b[39;00m \u001b[38;5;129;01min\u001b[39;00m \u001b[38;5;28mself\u001b[39m\u001b[38;5;241m.\u001b[39m_component_inputs:\n",
      "\u001b[0;31mTypeError\u001b[0m: Components must be instantiated using keyword arguments. Positional parameters are not allowed (found 1 such parameters for component \"get-std-data\")."
     ]
    }
   ],
   "source": [
    "@dsl.pipeline(\n",
    "    pipeline_root=PIPELINE_ROOT,\n",
    "    # A name for the pipeline. Use to determine the pipeline Context.\n",
    "    name=\"pipeline-regionsbusyness\"   \n",
    ")\n",
    "\n",
    "def pipeline(\n",
    "    data_filepath: str = f\"{BUCKET_NAME}/data\",\n",
    "    project: str = PROJECT_ID,\n",
    "    region: str = REGION, \n",
    "    display_name: str = DISPLAY_NAME,    \n",
    "    serving_container_image_uri: str = f\"{REGION}-docker.pkg.dev/{PROJECT_ID}/houseprice/serving_image:latest\" # custom serving container image     \n",
    "):\n",
    "\n",
    "    data_op = get_std_data(data_filepath)\n",
    "    data_preprocess_op = preprocess_std_data(data_op.outputs[\"dataset_train\"])\n",
    "    train_test_split_op = train_test_split(data_preprocess_op.outputs[\"dataset_train_preprocessed\"])\n",
    "    train_model_op = train_busyness(train_test_split_op.outputs[\"dataset_train\"], train_test_split_op.outputs[\"dataset_test\"])\n",
    "    model_evaluation_op = evaluate_busyness(train_model_op.outputs[\"model\"])\n",
    "        \n",
    "    deploy_model_op = deploy_busyness(\n",
    "        model = train_model_op.outputs['model'],\n",
    "        gcp_project = project,\n",
    "        gcp_region = region, \n",
    "        serving_container_image_uri = serving_container_image_uri,\n",
    "        display_name = \"regionbusyness\",\n",
    "        model_endpoint = \"regionbusyness_endpoint\"\n",
    "    )\n"
   ]
  },
  {
   "cell_type": "markdown",
   "metadata": {},
   "source": [
    "## Compile and Run the pipelie"
   ]
  },
  {
   "cell_type": "code",
   "execution_count": null,
   "metadata": {},
   "outputs": [],
   "source": [
    "# COMPILE THE PIPELINE (to create the job spec file)\n",
    "\n",
    "compiler.Compiler().compile(pipeline_func=pipeline,\n",
    "        package_path='ml_region_busyness.json')"
   ]
  },
  {
   "cell_type": "code",
   "execution_count": null,
   "metadata": {},
   "outputs": [],
   "source": [
    "# CREATE A RUN USING THE JOB SPEC FILE GENERATED \n",
    "\n",
    "start_pipeline = pipeline_jobs.PipelineJob(\n",
    "    display_name=\"region_busyness-pipeline\",\n",
    "    template_path=\"ml_region_busyness.json\",\n",
    "    enable_caching=False,\n",
    "    location=REGION,\n",
    ")"
   ]
  },
  {
   "cell_type": "code",
   "execution_count": null,
   "metadata": {},
   "outputs": [],
   "source": [
    "# RUN THE PIPELINE\n",
    "\n",
    "start_pipeline.run()"
   ]
  },
  {
   "cell_type": "markdown",
   "metadata": {},
   "source": [
    "## Make Predictions Using Vertex AI Endpoint"
   ]
  },
  {
   "cell_type": "code",
   "execution_count": null,
   "metadata": {},
   "outputs": [],
   "source": [
    "from google.cloud import aiplatform as vertex_ai\n",
    "\n",
    "endpoint_name = <ENDPOINT_URI>\n",
    "endpoint = vertex_ai.Endpoint(endpoint_name)"
   ]
  },
  {
   "cell_type": "code",
   "execution_count": null,
   "metadata": {},
   "outputs": [],
   "source": [
    "test_df = pd.read_csv('./data/test.csv')"
   ]
  },
  {
   "cell_type": "code",
   "execution_count": null,
   "metadata": {},
   "outputs": [],
   "source": [
    "request = test_df.to_json(orient='records', lines=True)"
   ]
  },
  {
   "cell_type": "code",
   "execution_count": null,
   "metadata": {},
   "outputs": [],
   "source": [
    "predictions = endpoint.predict(instances=request.splitlines())"
   ]
  },
  {
   "cell_type": "markdown",
   "metadata": {},
   "source": []
  }
 ],
 "metadata": {
  "kernelspec": {
   "display_name": "SkipTheDishes",
   "language": "python",
   "name": "python3"
  },
  "language_info": {
   "codemirror_mode": {
    "name": "ipython",
    "version": 3
   },
   "file_extension": ".py",
   "mimetype": "text/x-python",
   "name": "python",
   "nbconvert_exporter": "python",
   "pygments_lexer": "ipython3",
   "version": "3.11.0"
  }
 },
 "nbformat": 4,
 "nbformat_minor": 2
}
